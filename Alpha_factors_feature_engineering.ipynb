{
 "cells": [
  {
   "cell_type": "markdown",
   "metadata": {},
   "source": [
    "# Engineering Predictive Alpha Factors"
   ]
  },
  {
   "cell_type": "markdown",
   "metadata": {},
   "source": [
    "## Imports"
   ]
  },
  {
   "cell_type": "code",
   "execution_count": 1,
   "metadata": {
    "ExecuteTime": {
     "end_time": "2022-01-12T21:22:09.309630Z",
     "start_time": "2022-01-12T21:22:08.502872Z"
    }
   },
   "outputs": [],
   "source": [
    "import pandas as pd\n",
    "import matplotlib.pyplot as plt\n",
    "import seaborn as sns\n",
    "import pandas_datareader.data as web\n",
    "from pathlib import Path"
   ]
  },
  {
   "cell_type": "code",
   "execution_count": 2,
   "metadata": {
    "ExecuteTime": {
     "end_time": "2022-01-12T21:22:09.312363Z",
     "start_time": "2022-01-12T21:22:09.310544Z"
    }
   },
   "outputs": [],
   "source": [
    "idx = pd.IndexSlice"
   ]
  },
  {
   "cell_type": "markdown",
   "metadata": {},
   "source": [
    "# Load the dataset"
   ]
  },
  {
   "cell_type": "code",
   "execution_count": 3,
   "metadata": {},
   "outputs": [
    {
     "data": {
      "text/plain": [
       "WindowsPath('stock_prices.h5')"
      ]
     },
     "execution_count": 3,
     "metadata": {},
     "output_type": "execute_result"
    }
   ],
   "source": [
    "data_path = Path('stock_prices.h5')\n",
    "data_path"
   ]
  },
  {
   "cell_type": "code",
   "execution_count": 4,
   "metadata": {},
   "outputs": [
    {
     "name": "stdout",
     "output_type": "stream",
     "text": [
      "                        open       high        low      close     volume\n",
      "ticker date                                                             \n",
      "A      2006-01-03  22.786839  22.909642  22.387796  22.855063  3796200.0\n",
      "       2006-01-04  22.889175  23.080202  22.766372  22.916465  3001300.0\n",
      "       2006-01-05  22.820951  23.516836  22.820951  23.516836  3458800.0\n",
      "       2006-01-06  23.537304  23.735153  23.257585  23.639640  4396500.0\n",
      "       2006-01-09  23.639640  23.741976  23.482724  23.571416  2920500.0\n",
      "...                      ...        ...        ...        ...        ...\n",
      "ZUMZ   2016-12-23  20.950000  21.500000  20.950000  21.350000   532292.0\n",
      "       2016-12-27  21.200000  21.700000  21.200000  21.450000   308004.0\n",
      "       2016-12-28  21.550000  21.749900  21.325000  21.450000   165827.0\n",
      "       2016-12-29  21.550000  22.050000  21.400000  21.900000   322108.0\n",
      "       2016-12-30  21.900000  22.190000  21.600000  21.850000   295429.0\n",
      "\n",
      "[7531907 rows x 5 columns]\n"
     ]
    }
   ],
   "source": [
    "with pd.HDFStore(data_path) as store:\n",
    "    data = store[list(store.keys())[0]].loc[idx[:, '2006':'2016'], :]\n",
    "print(data)"
   ]
  },
  {
   "cell_type": "code",
   "execution_count": 5,
   "metadata": {},
   "outputs": [
    {
     "name": "stdout",
     "output_type": "stream",
     "text": [
      "<class 'pandas.core.frame.DataFrame'>\n",
      "MultiIndex: 7531907 entries, ('A', Timestamp('2006-01-03 00:00:00')) to ('ZUMZ', Timestamp('2016-12-30 00:00:00'))\n",
      "Data columns (total 5 columns):\n",
      " #   Column  Non-Null Count    Dtype  \n",
      "---  ------  --------------    -----  \n",
      " 0   open    7531907 non-null  float64\n",
      " 1   high    7531907 non-null  float64\n",
      " 2   low     7531907 non-null  float64\n",
      " 3   close   7531907 non-null  float64\n",
      " 4   volume  7531907 non-null  float64\n",
      "dtypes: float64(5)\n",
      "memory usage: 316.8+ MB\n"
     ]
    }
   ],
   "source": [
    "data.info(show_counts=True)"
   ]
  },
  {
   "cell_type": "code",
   "execution_count": 6,
   "metadata": {},
   "outputs": [
    {
     "data": {
      "text/plain": [
       "ticker  date      \n",
       "A       2006-01-03    8.676239e+07\n",
       "        2006-01-04    6.877919e+07\n",
       "        2006-01-05    8.134003e+07\n",
       "        2006-01-06    1.039317e+08\n",
       "        2006-01-09    6.884032e+07\n",
       "                          ...     \n",
       "ZUMZ    2016-12-23    1.136443e+07\n",
       "        2016-12-27    6.606686e+06\n",
       "        2016-12-28    3.556989e+06\n",
       "        2016-12-29    7.054165e+06\n",
       "        2016-12-30    6.455124e+06\n",
       "Length: 7531907, dtype: float64"
      ]
     },
     "execution_count": 6,
     "metadata": {},
     "output_type": "execute_result"
    }
   ],
   "source": [
    "dv = data.close.mul(data.volume)\n",
    "dv"
   ]
  },
  {
   "cell_type": "code",
   "execution_count": 7,
   "metadata": {},
   "outputs": [],
   "source": [
    "dv_rk = dv.groupby(level='date').rank(ascending=False)"
   ]
  },
  {
   "cell_type": "code",
   "execution_count": 8,
   "metadata": {},
   "outputs": [
    {
     "data": {
      "text/plain": [
       "ticker\n",
       "A        241.0\n",
       "AAL      566.0\n",
       "AAN     2193.0\n",
       "AAON    2033.0\n",
       "AAP      509.0\n",
       "         ...  \n",
       "ZIXI    1764.0\n",
       "ZLC      857.0\n",
       "ZMH      182.0\n",
       "ZQK      998.0\n",
       "ZUMZ     908.0\n",
       "Length: 2269, dtype: float64"
      ]
     },
     "execution_count": 8,
     "metadata": {},
     "output_type": "execute_result"
    }
   ],
   "source": [
    "dv_rk[:, '2006-01-09']"
   ]
  },
  {
   "cell_type": "code",
   "execution_count": 9,
   "metadata": {},
   "outputs": [],
   "source": [
    "selected500Stocks = dv.groupby(level='date').rank(ascending=False).unstack('ticker').dropna(thresh=8*252, axis=1).mean().nsmallest(500)"
   ]
  },
  {
   "cell_type": "code",
   "execution_count": 10,
   "metadata": {},
   "outputs": [
    {
     "data": {
      "text/plain": [
       "ticker\n",
       "AAPL       2.115204\n",
       "GOOGL      6.726255\n",
       "MSFT       8.593716\n",
       "BAC        9.465511\n",
       "XOM       10.465511\n",
       "            ...    \n",
       "IGT      571.181293\n",
       "NUAN     573.919104\n",
       "CYH      574.426869\n",
       "RSG      574.600939\n",
       "SM       576.002167\n",
       "Length: 500, dtype: float64"
      ]
     },
     "execution_count": 10,
     "metadata": {},
     "output_type": "execute_result"
    }
   ],
   "source": [
    "selected500Stocks"
   ]
  },
  {
   "cell_type": "code",
   "execution_count": 11,
   "metadata": {},
   "outputs": [],
   "source": [
    "universe_stocks = data.loc[list(selected500Stocks.index), :]"
   ]
  },
  {
   "cell_type": "code",
   "execution_count": 12,
   "metadata": {},
   "outputs": [
    {
     "data": {
      "text/html": [
       "<div>\n",
       "<style scoped>\n",
       "    .dataframe tbody tr th:only-of-type {\n",
       "        vertical-align: middle;\n",
       "    }\n",
       "\n",
       "    .dataframe tbody tr th {\n",
       "        vertical-align: top;\n",
       "    }\n",
       "\n",
       "    .dataframe thead th {\n",
       "        text-align: right;\n",
       "    }\n",
       "</style>\n",
       "<table border=\"1\" class=\"dataframe\">\n",
       "  <thead>\n",
       "    <tr style=\"text-align: right;\">\n",
       "      <th></th>\n",
       "      <th></th>\n",
       "      <th>open</th>\n",
       "      <th>high</th>\n",
       "      <th>low</th>\n",
       "      <th>close</th>\n",
       "      <th>volume</th>\n",
       "    </tr>\n",
       "    <tr>\n",
       "      <th>ticker</th>\n",
       "      <th>date</th>\n",
       "      <th></th>\n",
       "      <th></th>\n",
       "      <th></th>\n",
       "      <th></th>\n",
       "      <th></th>\n",
       "    </tr>\n",
       "  </thead>\n",
       "  <tbody>\n",
       "    <tr>\n",
       "      <th rowspan=\"5\" valign=\"top\">AAPL</th>\n",
       "      <th>2006-01-03</th>\n",
       "      <td>9.295670</td>\n",
       "      <td>9.606417</td>\n",
       "      <td>9.285132</td>\n",
       "      <td>9.606417</td>\n",
       "      <td>201808600.0</td>\n",
       "    </tr>\n",
       "    <tr>\n",
       "      <th>2006-01-04</th>\n",
       "      <td>9.655252</td>\n",
       "      <td>9.764489</td>\n",
       "      <td>9.574288</td>\n",
       "      <td>9.634690</td>\n",
       "      <td>154900900.0</td>\n",
       "    </tr>\n",
       "    <tr>\n",
       "      <th>2006-01-05</th>\n",
       "      <td>9.616698</td>\n",
       "      <td>9.625694</td>\n",
       "      <td>9.477903</td>\n",
       "      <td>9.558867</td>\n",
       "      <td>112355600.0</td>\n",
       "    </tr>\n",
       "    <tr>\n",
       "      <th>2006-01-06</th>\n",
       "      <td>9.669389</td>\n",
       "      <td>9.857019</td>\n",
       "      <td>9.580714</td>\n",
       "      <td>9.805613</td>\n",
       "      <td>176114400.0</td>\n",
       "    </tr>\n",
       "    <tr>\n",
       "      <th>2006-01-09</th>\n",
       "      <td>9.860874</td>\n",
       "      <td>9.921276</td>\n",
       "      <td>9.733646</td>\n",
       "      <td>9.773485</td>\n",
       "      <td>168760200.0</td>\n",
       "    </tr>\n",
       "    <tr>\n",
       "      <th>...</th>\n",
       "      <th>...</th>\n",
       "      <td>...</td>\n",
       "      <td>...</td>\n",
       "      <td>...</td>\n",
       "      <td>...</td>\n",
       "      <td>...</td>\n",
       "    </tr>\n",
       "    <tr>\n",
       "      <th rowspan=\"5\" valign=\"top\">SM</th>\n",
       "      <th>2016-12-23</th>\n",
       "      <td>35.072860</td>\n",
       "      <td>35.769342</td>\n",
       "      <td>34.913664</td>\n",
       "      <td>35.291754</td>\n",
       "      <td>918559.0</td>\n",
       "    </tr>\n",
       "    <tr>\n",
       "      <th>2016-12-27</th>\n",
       "      <td>35.620096</td>\n",
       "      <td>36.132309</td>\n",
       "      <td>35.203898</td>\n",
       "      <td>35.441001</td>\n",
       "      <td>901361.0</td>\n",
       "    </tr>\n",
       "    <tr>\n",
       "      <th>2016-12-28</th>\n",
       "      <td>35.669845</td>\n",
       "      <td>36.097684</td>\n",
       "      <td>34.674870</td>\n",
       "      <td>34.943513</td>\n",
       "      <td>1437387.0</td>\n",
       "    </tr>\n",
       "    <tr>\n",
       "      <th>2016-12-29</th>\n",
       "      <td>34.684820</td>\n",
       "      <td>34.903714</td>\n",
       "      <td>33.908740</td>\n",
       "      <td>34.535574</td>\n",
       "      <td>1296394.0</td>\n",
       "    </tr>\n",
       "    <tr>\n",
       "      <th>2016-12-30</th>\n",
       "      <td>34.505724</td>\n",
       "      <td>35.639996</td>\n",
       "      <td>34.162458</td>\n",
       "      <td>34.306729</td>\n",
       "      <td>1491282.0</td>\n",
       "    </tr>\n",
       "  </tbody>\n",
       "</table>\n",
       "<p>1366286 rows × 5 columns</p>\n",
       "</div>"
      ],
      "text/plain": [
       "                        open       high        low      close       volume\n",
       "ticker date                                                               \n",
       "AAPL   2006-01-03   9.295670   9.606417   9.285132   9.606417  201808600.0\n",
       "       2006-01-04   9.655252   9.764489   9.574288   9.634690  154900900.0\n",
       "       2006-01-05   9.616698   9.625694   9.477903   9.558867  112355600.0\n",
       "       2006-01-06   9.669389   9.857019   9.580714   9.805613  176114400.0\n",
       "       2006-01-09   9.860874   9.921276   9.733646   9.773485  168760200.0\n",
       "...                      ...        ...        ...        ...          ...\n",
       "SM     2016-12-23  35.072860  35.769342  34.913664  35.291754     918559.0\n",
       "       2016-12-27  35.620096  36.132309  35.203898  35.441001     901361.0\n",
       "       2016-12-28  35.669845  36.097684  34.674870  34.943513    1437387.0\n",
       "       2016-12-29  34.684820  34.903714  33.908740  34.535574    1296394.0\n",
       "       2016-12-30  34.505724  35.639996  34.162458  34.306729    1491282.0\n",
       "\n",
       "[1366286 rows x 5 columns]"
      ]
     },
     "execution_count": 12,
     "metadata": {},
     "output_type": "execute_result"
    }
   ],
   "source": [
    "universe_stocks"
   ]
  },
  {
   "cell_type": "code",
   "execution_count": 13,
   "metadata": {},
   "outputs": [
    {
     "data": {
      "text/plain": [
       "Index(['AAPL', 'GOOGL', 'MSFT', 'BAC', 'XOM', 'C', 'JPM', 'GE', 'INTC', 'CSCO',\n",
       "       ...\n",
       "       'THC', 'WSM', 'CMS', 'BMRN', 'CPN', 'IGT', 'NUAN', 'CYH', 'RSG', 'SM'],\n",
       "      dtype='object', name='ticker', length=500)"
      ]
     },
     "execution_count": 13,
     "metadata": {},
     "output_type": "execute_result"
    }
   ],
   "source": [
    "universe_stocks.index.unique('ticker')"
   ]
  },
  {
   "cell_type": "code",
   "execution_count": 14,
   "metadata": {},
   "outputs": [
    {
     "name": "stdout",
     "output_type": "stream",
     "text": [
      "<class 'pandas.core.frame.DataFrame'>\n",
      "MultiIndex: 1366286 entries, ('AAPL', Timestamp('2006-01-03 00:00:00')) to ('SM', Timestamp('2016-12-30 00:00:00'))\n",
      "Data columns (total 5 columns):\n",
      " #   Column  Non-Null Count    Dtype  \n",
      "---  ------  --------------    -----  \n",
      " 0   open    1366286 non-null  float64\n",
      " 1   high    1366286 non-null  float64\n",
      " 2   low     1366286 non-null  float64\n",
      " 3   close   1366286 non-null  float64\n",
      " 4   volume  1366286 non-null  float64\n",
      "dtypes: float64(5)\n",
      "memory usage: 58.1+ MB\n"
     ]
    }
   ],
   "source": [
    "universe_stocks.info()"
   ]
  },
  {
   "cell_type": "markdown",
   "metadata": {},
   "source": [
    "# Compute daily returns and keep only inliers with values between -100% and +100% as a basic check against data error."
   ]
  },
  {
   "cell_type": "code",
   "execution_count": 15,
   "metadata": {},
   "outputs": [
    {
     "data": {
      "text/html": [
       "<div>\n",
       "<style scoped>\n",
       "    .dataframe tbody tr th:only-of-type {\n",
       "        vertical-align: middle;\n",
       "    }\n",
       "\n",
       "    .dataframe tbody tr th {\n",
       "        vertical-align: top;\n",
       "    }\n",
       "\n",
       "    .dataframe thead th {\n",
       "        text-align: right;\n",
       "    }\n",
       "</style>\n",
       "<table border=\"1\" class=\"dataframe\">\n",
       "  <thead>\n",
       "    <tr style=\"text-align: right;\">\n",
       "      <th></th>\n",
       "      <th></th>\n",
       "      <th>open</th>\n",
       "      <th>high</th>\n",
       "      <th>low</th>\n",
       "      <th>close</th>\n",
       "      <th>volume</th>\n",
       "      <th>daily_returns</th>\n",
       "    </tr>\n",
       "    <tr>\n",
       "      <th>ticker</th>\n",
       "      <th>date</th>\n",
       "      <th></th>\n",
       "      <th></th>\n",
       "      <th></th>\n",
       "      <th></th>\n",
       "      <th></th>\n",
       "      <th></th>\n",
       "    </tr>\n",
       "  </thead>\n",
       "  <tbody>\n",
       "    <tr>\n",
       "      <th rowspan=\"5\" valign=\"top\">AAPL</th>\n",
       "      <th>2006-01-04</th>\n",
       "      <td>9.655252</td>\n",
       "      <td>9.764489</td>\n",
       "      <td>9.574288</td>\n",
       "      <td>9.634690</td>\n",
       "      <td>154900900.0</td>\n",
       "      <td>0.002943</td>\n",
       "    </tr>\n",
       "    <tr>\n",
       "      <th>2006-01-05</th>\n",
       "      <td>9.616698</td>\n",
       "      <td>9.625694</td>\n",
       "      <td>9.477903</td>\n",
       "      <td>9.558867</td>\n",
       "      <td>112355600.0</td>\n",
       "      <td>-0.007870</td>\n",
       "    </tr>\n",
       "    <tr>\n",
       "      <th>2006-01-06</th>\n",
       "      <td>9.669389</td>\n",
       "      <td>9.857019</td>\n",
       "      <td>9.580714</td>\n",
       "      <td>9.805613</td>\n",
       "      <td>176114400.0</td>\n",
       "      <td>0.025813</td>\n",
       "    </tr>\n",
       "    <tr>\n",
       "      <th>2006-01-09</th>\n",
       "      <td>9.860874</td>\n",
       "      <td>9.921276</td>\n",
       "      <td>9.733646</td>\n",
       "      <td>9.773485</td>\n",
       "      <td>168760200.0</td>\n",
       "      <td>-0.003277</td>\n",
       "    </tr>\n",
       "    <tr>\n",
       "      <th>2006-01-10</th>\n",
       "      <td>9.799188</td>\n",
       "      <td>10.524006</td>\n",
       "      <td>9.745212</td>\n",
       "      <td>10.391637</td>\n",
       "      <td>569967300.0</td>\n",
       "      <td>0.063248</td>\n",
       "    </tr>\n",
       "    <tr>\n",
       "      <th>...</th>\n",
       "      <th>...</th>\n",
       "      <td>...</td>\n",
       "      <td>...</td>\n",
       "      <td>...</td>\n",
       "      <td>...</td>\n",
       "      <td>...</td>\n",
       "      <td>...</td>\n",
       "    </tr>\n",
       "    <tr>\n",
       "      <th rowspan=\"5\" valign=\"top\">SM</th>\n",
       "      <th>2016-12-23</th>\n",
       "      <td>35.072860</td>\n",
       "      <td>35.769342</td>\n",
       "      <td>34.913664</td>\n",
       "      <td>35.291754</td>\n",
       "      <td>918559.0</td>\n",
       "      <td>0.000847</td>\n",
       "    </tr>\n",
       "    <tr>\n",
       "      <th>2016-12-27</th>\n",
       "      <td>35.620096</td>\n",
       "      <td>36.132309</td>\n",
       "      <td>35.203898</td>\n",
       "      <td>35.441001</td>\n",
       "      <td>901361.0</td>\n",
       "      <td>0.004229</td>\n",
       "    </tr>\n",
       "    <tr>\n",
       "      <th>2016-12-28</th>\n",
       "      <td>35.669845</td>\n",
       "      <td>36.097684</td>\n",
       "      <td>34.674870</td>\n",
       "      <td>34.943513</td>\n",
       "      <td>1437387.0</td>\n",
       "      <td>-0.014037</td>\n",
       "    </tr>\n",
       "    <tr>\n",
       "      <th>2016-12-29</th>\n",
       "      <td>34.684820</td>\n",
       "      <td>34.903714</td>\n",
       "      <td>33.908740</td>\n",
       "      <td>34.535574</td>\n",
       "      <td>1296394.0</td>\n",
       "      <td>-0.011674</td>\n",
       "    </tr>\n",
       "    <tr>\n",
       "      <th>2016-12-30</th>\n",
       "      <td>34.505724</td>\n",
       "      <td>35.639996</td>\n",
       "      <td>34.162458</td>\n",
       "      <td>34.306729</td>\n",
       "      <td>1491282.0</td>\n",
       "      <td>-0.006626</td>\n",
       "    </tr>\n",
       "  </tbody>\n",
       "</table>\n",
       "<p>1365784 rows × 6 columns</p>\n",
       "</div>"
      ],
      "text/plain": [
       "                        open       high        low      close       volume  \\\n",
       "ticker date                                                                  \n",
       "AAPL   2006-01-04   9.655252   9.764489   9.574288   9.634690  154900900.0   \n",
       "       2006-01-05   9.616698   9.625694   9.477903   9.558867  112355600.0   \n",
       "       2006-01-06   9.669389   9.857019   9.580714   9.805613  176114400.0   \n",
       "       2006-01-09   9.860874   9.921276   9.733646   9.773485  168760200.0   \n",
       "       2006-01-10   9.799188  10.524006   9.745212  10.391637  569967300.0   \n",
       "...                      ...        ...        ...        ...          ...   \n",
       "SM     2016-12-23  35.072860  35.769342  34.913664  35.291754     918559.0   \n",
       "       2016-12-27  35.620096  36.132309  35.203898  35.441001     901361.0   \n",
       "       2016-12-28  35.669845  36.097684  34.674870  34.943513    1437387.0   \n",
       "       2016-12-29  34.684820  34.903714  33.908740  34.535574    1296394.0   \n",
       "       2016-12-30  34.505724  35.639996  34.162458  34.306729    1491282.0   \n",
       "\n",
       "                   daily_returns  \n",
       "ticker date                       \n",
       "AAPL   2006-01-04       0.002943  \n",
       "       2006-01-05      -0.007870  \n",
       "       2006-01-06       0.025813  \n",
       "       2006-01-09      -0.003277  \n",
       "       2006-01-10       0.063248  \n",
       "...                          ...  \n",
       "SM     2016-12-23       0.000847  \n",
       "       2016-12-27       0.004229  \n",
       "       2016-12-28      -0.014037  \n",
       "       2016-12-29      -0.011674  \n",
       "       2016-12-30      -0.006626  \n",
       "\n",
       "[1365784 rows x 6 columns]"
      ]
     },
     "execution_count": 15,
     "metadata": {},
     "output_type": "execute_result"
    }
   ],
   "source": [
    "universe_stocks['daily_returns'] = universe_stocks.groupby('ticker').close.pct_change()\n",
    "universe_stocks = universe_stocks[universe_stocks.daily_returns.between(-1, 1)]\n",
    "universe_stocks.drop('daily_returns', axis=1)\n",
    "universe_stocks"
   ]
  },
  {
   "cell_type": "markdown",
   "metadata": {},
   "source": [
    "# Historical returns "
   ]
  },
  {
   "cell_type": "markdown",
   "metadata": {},
   "source": [
    "Compute historical returns for various time ranges, such as 1, 3, 5, 10, and 21 trading days, as well as longer periods like 2, 3, 6, and 12 months."
   ]
  },
  {
   "cell_type": "code",
   "execution_count": 16,
   "metadata": {},
   "outputs": [],
   "source": [
    "T = [1, 2, 3, 4, 5, 10, 21, 42, 63, 126, 252]"
   ]
  },
  {
   "cell_type": "code",
   "execution_count": 17,
   "metadata": {},
   "outputs": [
    {
     "name": "stderr",
     "output_type": "stream",
     "text": [
      "C:\\Users\\mndour\\AppData\\Local\\Temp\\ipykernel_1120\\1200539020.py:2: SettingWithCopyWarning: \n",
      "A value is trying to be set on a copy of a slice from a DataFrame.\n",
      "Try using .loc[row_indexer,col_indexer] = value instead\n",
      "\n",
      "See the caveats in the documentation: https://pandas.pydata.org/pandas-docs/stable/user_guide/indexing.html#returning-a-view-versus-a-copy\n",
      "  universe_stocks[f'returns_{k}'] = universe_stocks.groupby('ticker').close.pct_change(k)\n"
     ]
    }
   ],
   "source": [
    "for k in T:\n",
    "    universe_stocks[f'returns_{k}'] = universe_stocks.groupby('ticker').close.pct_change(k)"
   ]
  },
  {
   "cell_type": "code",
   "execution_count": 18,
   "metadata": {},
   "outputs": [
    {
     "data": {
      "text/html": [
       "<div>\n",
       "<style scoped>\n",
       "    .dataframe tbody tr th:only-of-type {\n",
       "        vertical-align: middle;\n",
       "    }\n",
       "\n",
       "    .dataframe tbody tr th {\n",
       "        vertical-align: top;\n",
       "    }\n",
       "\n",
       "    .dataframe thead th {\n",
       "        text-align: right;\n",
       "    }\n",
       "</style>\n",
       "<table border=\"1\" class=\"dataframe\">\n",
       "  <thead>\n",
       "    <tr style=\"text-align: right;\">\n",
       "      <th></th>\n",
       "      <th></th>\n",
       "      <th>open</th>\n",
       "      <th>high</th>\n",
       "      <th>low</th>\n",
       "      <th>close</th>\n",
       "      <th>volume</th>\n",
       "      <th>daily_returns</th>\n",
       "      <th>returns_1</th>\n",
       "      <th>returns_2</th>\n",
       "      <th>returns_3</th>\n",
       "      <th>returns_4</th>\n",
       "      <th>returns_5</th>\n",
       "      <th>returns_10</th>\n",
       "      <th>returns_21</th>\n",
       "      <th>returns_42</th>\n",
       "      <th>returns_63</th>\n",
       "      <th>returns_126</th>\n",
       "      <th>returns_252</th>\n",
       "    </tr>\n",
       "    <tr>\n",
       "      <th>ticker</th>\n",
       "      <th>date</th>\n",
       "      <th></th>\n",
       "      <th></th>\n",
       "      <th></th>\n",
       "      <th></th>\n",
       "      <th></th>\n",
       "      <th></th>\n",
       "      <th></th>\n",
       "      <th></th>\n",
       "      <th></th>\n",
       "      <th></th>\n",
       "      <th></th>\n",
       "      <th></th>\n",
       "      <th></th>\n",
       "      <th></th>\n",
       "      <th></th>\n",
       "      <th></th>\n",
       "      <th></th>\n",
       "    </tr>\n",
       "  </thead>\n",
       "  <tbody>\n",
       "    <tr>\n",
       "      <th rowspan=\"5\" valign=\"top\">AAPL</th>\n",
       "      <th>2006-01-04</th>\n",
       "      <td>9.655252</td>\n",
       "      <td>9.764489</td>\n",
       "      <td>9.574288</td>\n",
       "      <td>9.634690</td>\n",
       "      <td>154900900.0</td>\n",
       "      <td>0.002943</td>\n",
       "      <td>NaN</td>\n",
       "      <td>NaN</td>\n",
       "      <td>NaN</td>\n",
       "      <td>NaN</td>\n",
       "      <td>NaN</td>\n",
       "      <td>NaN</td>\n",
       "      <td>NaN</td>\n",
       "      <td>NaN</td>\n",
       "      <td>NaN</td>\n",
       "      <td>NaN</td>\n",
       "      <td>NaN</td>\n",
       "    </tr>\n",
       "    <tr>\n",
       "      <th>2006-01-05</th>\n",
       "      <td>9.616698</td>\n",
       "      <td>9.625694</td>\n",
       "      <td>9.477903</td>\n",
       "      <td>9.558867</td>\n",
       "      <td>112355600.0</td>\n",
       "      <td>-0.007870</td>\n",
       "      <td>-0.007870</td>\n",
       "      <td>NaN</td>\n",
       "      <td>NaN</td>\n",
       "      <td>NaN</td>\n",
       "      <td>NaN</td>\n",
       "      <td>NaN</td>\n",
       "      <td>NaN</td>\n",
       "      <td>NaN</td>\n",
       "      <td>NaN</td>\n",
       "      <td>NaN</td>\n",
       "      <td>NaN</td>\n",
       "    </tr>\n",
       "    <tr>\n",
       "      <th>2006-01-06</th>\n",
       "      <td>9.669389</td>\n",
       "      <td>9.857019</td>\n",
       "      <td>9.580714</td>\n",
       "      <td>9.805613</td>\n",
       "      <td>176114400.0</td>\n",
       "      <td>0.025813</td>\n",
       "      <td>0.025813</td>\n",
       "      <td>0.017740</td>\n",
       "      <td>NaN</td>\n",
       "      <td>NaN</td>\n",
       "      <td>NaN</td>\n",
       "      <td>NaN</td>\n",
       "      <td>NaN</td>\n",
       "      <td>NaN</td>\n",
       "      <td>NaN</td>\n",
       "      <td>NaN</td>\n",
       "      <td>NaN</td>\n",
       "    </tr>\n",
       "    <tr>\n",
       "      <th>2006-01-09</th>\n",
       "      <td>9.860874</td>\n",
       "      <td>9.921276</td>\n",
       "      <td>9.733646</td>\n",
       "      <td>9.773485</td>\n",
       "      <td>168760200.0</td>\n",
       "      <td>-0.003277</td>\n",
       "      <td>-0.003277</td>\n",
       "      <td>0.022452</td>\n",
       "      <td>0.014406</td>\n",
       "      <td>NaN</td>\n",
       "      <td>NaN</td>\n",
       "      <td>NaN</td>\n",
       "      <td>NaN</td>\n",
       "      <td>NaN</td>\n",
       "      <td>NaN</td>\n",
       "      <td>NaN</td>\n",
       "      <td>NaN</td>\n",
       "    </tr>\n",
       "    <tr>\n",
       "      <th>2006-01-10</th>\n",
       "      <td>9.799188</td>\n",
       "      <td>10.524006</td>\n",
       "      <td>9.745212</td>\n",
       "      <td>10.391637</td>\n",
       "      <td>569967300.0</td>\n",
       "      <td>0.063248</td>\n",
       "      <td>0.063248</td>\n",
       "      <td>0.059764</td>\n",
       "      <td>0.087120</td>\n",
       "      <td>0.078565</td>\n",
       "      <td>NaN</td>\n",
       "      <td>NaN</td>\n",
       "      <td>NaN</td>\n",
       "      <td>NaN</td>\n",
       "      <td>NaN</td>\n",
       "      <td>NaN</td>\n",
       "      <td>NaN</td>\n",
       "    </tr>\n",
       "    <tr>\n",
       "      <th>...</th>\n",
       "      <th>...</th>\n",
       "      <td>...</td>\n",
       "      <td>...</td>\n",
       "      <td>...</td>\n",
       "      <td>...</td>\n",
       "      <td>...</td>\n",
       "      <td>...</td>\n",
       "      <td>...</td>\n",
       "      <td>...</td>\n",
       "      <td>...</td>\n",
       "      <td>...</td>\n",
       "      <td>...</td>\n",
       "      <td>...</td>\n",
       "      <td>...</td>\n",
       "      <td>...</td>\n",
       "      <td>...</td>\n",
       "      <td>...</td>\n",
       "      <td>...</td>\n",
       "    </tr>\n",
       "    <tr>\n",
       "      <th rowspan=\"5\" valign=\"top\">SM</th>\n",
       "      <th>2016-12-23</th>\n",
       "      <td>35.072860</td>\n",
       "      <td>35.769342</td>\n",
       "      <td>34.913664</td>\n",
       "      <td>35.291754</td>\n",
       "      <td>918559.0</td>\n",
       "      <td>0.000847</td>\n",
       "      <td>0.000847</td>\n",
       "      <td>0.010253</td>\n",
       "      <td>-0.006164</td>\n",
       "      <td>-0.018811</td>\n",
       "      <td>0.001129</td>\n",
       "      <td>-0.031404</td>\n",
       "      <td>-0.017724</td>\n",
       "      <td>-0.014175</td>\n",
       "      <td>0.040842</td>\n",
       "      <td>0.409827</td>\n",
       "      <td>0.720425</td>\n",
       "    </tr>\n",
       "    <tr>\n",
       "      <th>2016-12-27</th>\n",
       "      <td>35.620096</td>\n",
       "      <td>36.132309</td>\n",
       "      <td>35.203898</td>\n",
       "      <td>35.441001</td>\n",
       "      <td>901361.0</td>\n",
       "      <td>0.004229</td>\n",
       "      <td>0.004229</td>\n",
       "      <td>0.005079</td>\n",
       "      <td>0.014526</td>\n",
       "      <td>-0.001961</td>\n",
       "      <td>-0.014661</td>\n",
       "      <td>-0.029956</td>\n",
       "      <td>0.000843</td>\n",
       "      <td>0.030671</td>\n",
       "      <td>0.092304</td>\n",
       "      <td>0.315519</td>\n",
       "      <td>0.874546</td>\n",
       "    </tr>\n",
       "    <tr>\n",
       "      <th>2016-12-28</th>\n",
       "      <td>35.669845</td>\n",
       "      <td>36.097684</td>\n",
       "      <td>34.674870</td>\n",
       "      <td>34.943513</td>\n",
       "      <td>1437387.0</td>\n",
       "      <td>-0.014037</td>\n",
       "      <td>-0.014037</td>\n",
       "      <td>-0.009867</td>\n",
       "      <td>-0.009029</td>\n",
       "      <td>0.000285</td>\n",
       "      <td>-0.015971</td>\n",
       "      <td>-0.059454</td>\n",
       "      <td>0.061027</td>\n",
       "      <td>-0.006787</td>\n",
       "      <td>-0.036891</td>\n",
       "      <td>0.265771</td>\n",
       "      <td>0.861909</td>\n",
       "    </tr>\n",
       "    <tr>\n",
       "      <th>2016-12-29</th>\n",
       "      <td>34.684820</td>\n",
       "      <td>34.903714</td>\n",
       "      <td>33.908740</td>\n",
       "      <td>34.535574</td>\n",
       "      <td>1296394.0</td>\n",
       "      <td>-0.011674</td>\n",
       "      <td>-0.011674</td>\n",
       "      <td>-0.025547</td>\n",
       "      <td>-0.021427</td>\n",
       "      <td>-0.020598</td>\n",
       "      <td>-0.011393</td>\n",
       "      <td>-0.021427</td>\n",
       "      <td>0.087747</td>\n",
       "      <td>0.003469</td>\n",
       "      <td>-0.119964</td>\n",
       "      <td>0.287134</td>\n",
       "      <td>0.910871</td>\n",
       "    </tr>\n",
       "    <tr>\n",
       "      <th>2016-12-30</th>\n",
       "      <td>34.505724</td>\n",
       "      <td>35.639996</td>\n",
       "      <td>34.162458</td>\n",
       "      <td>34.306729</td>\n",
       "      <td>1491282.0</td>\n",
       "      <td>-0.006626</td>\n",
       "      <td>-0.006626</td>\n",
       "      <td>-0.018223</td>\n",
       "      <td>-0.032004</td>\n",
       "      <td>-0.027911</td>\n",
       "      <td>-0.027088</td>\n",
       "      <td>-0.009480</td>\n",
       "      <td>-0.134972</td>\n",
       "      <td>0.025275</td>\n",
       "      <td>-0.105176</td>\n",
       "      <td>0.229428</td>\n",
       "      <td>0.759174</td>\n",
       "    </tr>\n",
       "  </tbody>\n",
       "</table>\n",
       "<p>1365784 rows × 17 columns</p>\n",
       "</div>"
      ],
      "text/plain": [
       "                        open       high        low      close       volume  \\\n",
       "ticker date                                                                  \n",
       "AAPL   2006-01-04   9.655252   9.764489   9.574288   9.634690  154900900.0   \n",
       "       2006-01-05   9.616698   9.625694   9.477903   9.558867  112355600.0   \n",
       "       2006-01-06   9.669389   9.857019   9.580714   9.805613  176114400.0   \n",
       "       2006-01-09   9.860874   9.921276   9.733646   9.773485  168760200.0   \n",
       "       2006-01-10   9.799188  10.524006   9.745212  10.391637  569967300.0   \n",
       "...                      ...        ...        ...        ...          ...   \n",
       "SM     2016-12-23  35.072860  35.769342  34.913664  35.291754     918559.0   \n",
       "       2016-12-27  35.620096  36.132309  35.203898  35.441001     901361.0   \n",
       "       2016-12-28  35.669845  36.097684  34.674870  34.943513    1437387.0   \n",
       "       2016-12-29  34.684820  34.903714  33.908740  34.535574    1296394.0   \n",
       "       2016-12-30  34.505724  35.639996  34.162458  34.306729    1491282.0   \n",
       "\n",
       "                   daily_returns  returns_1  returns_2  returns_3  returns_4  \\\n",
       "ticker date                                                                    \n",
       "AAPL   2006-01-04       0.002943        NaN        NaN        NaN        NaN   \n",
       "       2006-01-05      -0.007870  -0.007870        NaN        NaN        NaN   \n",
       "       2006-01-06       0.025813   0.025813   0.017740        NaN        NaN   \n",
       "       2006-01-09      -0.003277  -0.003277   0.022452   0.014406        NaN   \n",
       "       2006-01-10       0.063248   0.063248   0.059764   0.087120   0.078565   \n",
       "...                          ...        ...        ...        ...        ...   \n",
       "SM     2016-12-23       0.000847   0.000847   0.010253  -0.006164  -0.018811   \n",
       "       2016-12-27       0.004229   0.004229   0.005079   0.014526  -0.001961   \n",
       "       2016-12-28      -0.014037  -0.014037  -0.009867  -0.009029   0.000285   \n",
       "       2016-12-29      -0.011674  -0.011674  -0.025547  -0.021427  -0.020598   \n",
       "       2016-12-30      -0.006626  -0.006626  -0.018223  -0.032004  -0.027911   \n",
       "\n",
       "                   returns_5  returns_10  returns_21  returns_42  returns_63  \\\n",
       "ticker date                                                                    \n",
       "AAPL   2006-01-04        NaN         NaN         NaN         NaN         NaN   \n",
       "       2006-01-05        NaN         NaN         NaN         NaN         NaN   \n",
       "       2006-01-06        NaN         NaN         NaN         NaN         NaN   \n",
       "       2006-01-09        NaN         NaN         NaN         NaN         NaN   \n",
       "       2006-01-10        NaN         NaN         NaN         NaN         NaN   \n",
       "...                      ...         ...         ...         ...         ...   \n",
       "SM     2016-12-23   0.001129   -0.031404   -0.017724   -0.014175    0.040842   \n",
       "       2016-12-27  -0.014661   -0.029956    0.000843    0.030671    0.092304   \n",
       "       2016-12-28  -0.015971   -0.059454    0.061027   -0.006787   -0.036891   \n",
       "       2016-12-29  -0.011393   -0.021427    0.087747    0.003469   -0.119964   \n",
       "       2016-12-30  -0.027088   -0.009480   -0.134972    0.025275   -0.105176   \n",
       "\n",
       "                   returns_126  returns_252  \n",
       "ticker date                                  \n",
       "AAPL   2006-01-04          NaN          NaN  \n",
       "       2006-01-05          NaN          NaN  \n",
       "       2006-01-06          NaN          NaN  \n",
       "       2006-01-09          NaN          NaN  \n",
       "       2006-01-10          NaN          NaN  \n",
       "...                        ...          ...  \n",
       "SM     2016-12-23     0.409827     0.720425  \n",
       "       2016-12-27     0.315519     0.874546  \n",
       "       2016-12-28     0.265771     0.861909  \n",
       "       2016-12-29     0.287134     0.910871  \n",
       "       2016-12-30     0.229428     0.759174  \n",
       "\n",
       "[1365784 rows x 17 columns]"
      ]
     },
     "execution_count": 18,
     "metadata": {},
     "output_type": "execute_result"
    }
   ],
   "source": [
    "universe_stocks"
   ]
  },
  {
   "cell_type": "markdown",
   "metadata": {},
   "source": [
    "# Technical Indicators "
   ]
  },
  {
   "cell_type": "code",
   "execution_count": 19,
   "metadata": {},
   "outputs": [],
   "source": [
    "import talib\n",
    "from talib import RSI, BBANDS, MACD, ATR, ADOSC, OBV, NATR"
   ]
  },
  {
   "cell_type": "markdown",
   "metadata": {},
   "source": [
    "### Bollinger Bands"
   ]
  },
  {
   "cell_type": "code",
   "execution_count": 20,
   "metadata": {},
   "outputs": [],
   "source": [
    "def compute_bb(close):\n",
    "    \n",
    "    high, mid, low = BBANDS(close)\n",
    "    \n",
    "    return pd.DataFrame({'bb_high': high, 'bb_low': low}, index=close.index)\n"
   ]
  },
  {
   "cell_type": "code",
   "execution_count": 21,
   "metadata": {},
   "outputs": [],
   "source": [
    "universe_stocks = universe_stocks.join(universe_stocks.groupby(level='ticker').close.apply(compute_bb))  "
   ]
  },
  {
   "cell_type": "markdown",
   "metadata": {},
   "source": [
    "### MACD"
   ]
  },
  {
   "cell_type": "code",
   "execution_count": 22,
   "metadata": {},
   "outputs": [],
   "source": [
    "def compute_macd(close):\n",
    "    macd = MACD(close)[0]\n",
    "    \n",
    "    return (macd - np.mean(macd))/np.std(macd)\n",
    "           "
   ]
  },
  {
   "cell_type": "code",
   "execution_count": 23,
   "metadata": {},
   "outputs": [],
   "source": [
    "universe_stocks['macd'] = universe_stocks.groupby(level='ticker', group_keys=False).close.apply(lambda x: MACD(x)[0])"
   ]
  },
  {
   "cell_type": "markdown",
   "metadata": {},
   "source": [
    "### RSI"
   ]
  },
  {
   "cell_type": "code",
   "execution_count": 24,
   "metadata": {},
   "outputs": [],
   "source": [
    "universe_stocks['rsi'] = universe_stocks.groupby(level='ticker').close.apply(RSI)"
   ]
  },
  {
   "cell_type": "markdown",
   "metadata": {},
   "source": [
    "###  Chaikin A/D Oscillator (ADOSC)"
   ]
  },
  {
   "cell_type": "code",
   "execution_count": 25,
   "metadata": {},
   "outputs": [],
   "source": [
    "universe_stocks['adosc'] = ADOSC(universe_stocks['high'], universe_stocks['low'], universe_stocks['close'], \n",
    "     universe_stocks['volume'], fastperiod=3, slowperiod=10 )"
   ]
  },
  {
   "cell_type": "markdown",
   "metadata": {},
   "source": [
    "### On Balance Volume (OBV) "
   ]
  },
  {
   "cell_type": "code",
   "execution_count": 26,
   "metadata": {},
   "outputs": [],
   "source": [
    "universe_stocks['obv'] = OBV(universe_stocks['close'], universe_stocks['volume'])"
   ]
  },
  {
   "cell_type": "markdown",
   "metadata": {},
   "source": [
    "### Create volatility metrics such as the Normalized Average True Range (NATR)."
   ]
  },
  {
   "cell_type": "code",
   "execution_count": 27,
   "metadata": {},
   "outputs": [],
   "source": [
    "universe_stocks['natr'] = universe_stocks.groupby('ticker', group_keys=False).apply(lambda x: NATR(x.high, x.low, x.close))"
   ]
  },
  {
   "cell_type": "code",
   "execution_count": null,
   "metadata": {},
   "outputs": [],
   "source": []
  },
  {
   "cell_type": "markdown",
   "metadata": {},
   "source": [
    "### Compute rolling factor betas using the five Fama-French risk factors for different rolling windows of 3 and 12 months "
   ]
  },
  {
   "cell_type": "code",
   "execution_count": 28,
   "metadata": {},
   "outputs": [],
   "source": [
    "factor_data = (web.DataReader('F-F_Research_Data_5_Factors_2x3_daily', 'famafrench', \n",
    "                              start=2005)[0].rename(columns={'Mkt-RF': 'MARKET'}))\n",
    "factor_data.index.names = ['date']"
   ]
  },
  {
   "cell_type": "code",
   "execution_count": 29,
   "metadata": {},
   "outputs": [
    {
     "name": "stdout",
     "output_type": "stream",
     "text": [
      "63\n"
     ]
    },
    {
     "ename": "NameError",
     "evalue": "name 'RollingOLS' is not defined",
     "output_type": "error",
     "traceback": [
      "\u001b[1;31m---------------------------------------------------------------------------\u001b[0m",
      "\u001b[1;31mNameError\u001b[0m                                 Traceback (most recent call last)",
      "Input \u001b[1;32mIn [29]\u001b[0m, in \u001b[0;36m<cell line: 4>\u001b[1;34m()\u001b[0m\n\u001b[0;32m      8\u001b[0m model_data \u001b[38;5;241m=\u001b[39m df[[ret]]\u001b[38;5;241m.\u001b[39mmerge(factor_data, on\u001b[38;5;241m=\u001b[39m\u001b[38;5;124m'\u001b[39m\u001b[38;5;124mdate\u001b[39m\u001b[38;5;124m'\u001b[39m)\u001b[38;5;241m.\u001b[39mdropna()\n\u001b[0;32m      9\u001b[0m model_data[ret] \u001b[38;5;241m-\u001b[39m\u001b[38;5;241m=\u001b[39m model_data\u001b[38;5;241m.\u001b[39mRF\n\u001b[1;32m---> 11\u001b[0m rolling_ols \u001b[38;5;241m=\u001b[39m \u001b[43mRollingOLS\u001b[49m(endog\u001b[38;5;241m=\u001b[39mmodel_data[ret], \n\u001b[0;32m     12\u001b[0m                          exog\u001b[38;5;241m=\u001b[39msm\u001b[38;5;241m.\u001b[39madd_constant(model_data[factors]), window\u001b[38;5;241m=\u001b[39mwindow)\n\u001b[0;32m     13\u001b[0m factor_model \u001b[38;5;241m=\u001b[39m rolling_ols\u001b[38;5;241m.\u001b[39mfit(params_only\u001b[38;5;241m=\u001b[39m\u001b[38;5;28;01mTrue\u001b[39;00m)\u001b[38;5;241m.\u001b[39mparams\u001b[38;5;241m.\u001b[39mrename(columns\u001b[38;5;241m=\u001b[39m{\u001b[38;5;124m'\u001b[39m\u001b[38;5;124mconst\u001b[39m\u001b[38;5;124m'\u001b[39m:\u001b[38;5;124m'\u001b[39m\u001b[38;5;124mALPHA\u001b[39m\u001b[38;5;124m'\u001b[39m})\n\u001b[0;32m     14\u001b[0m result \u001b[38;5;241m=\u001b[39m factor_model\u001b[38;5;241m.\u001b[39massign(ticker\u001b[38;5;241m=\u001b[39mticker)\u001b[38;5;241m.\u001b[39mset_index(\u001b[38;5;124m'\u001b[39m\u001b[38;5;124mticker\u001b[39m\u001b[38;5;124m'\u001b[39m, append\u001b[38;5;241m=\u001b[39m\u001b[38;5;28;01mTrue\u001b[39;00m)\u001b[38;5;241m.\u001b[39mswaplevel()\n",
      "\u001b[1;31mNameError\u001b[0m: name 'RollingOLS' is not defined"
     ]
    }
   ],
   "source": [
    "\n",
    "ret = f'returns_{1}'\n",
    "\n",
    "windows = [63, 252]\n",
    "for window in windows:\n",
    "    print(window)\n",
    "    betas = []\n",
    "    for ticker, df in universe_stocks.groupby('ticker', group_keys=False):\n",
    "        model_data = df[[ret]].merge(factor_data, on='date').dropna()\n",
    "        model_data[ret] -= model_data.RF\n",
    "\n",
    "        rolling_ols = RollingOLS(endog=model_data[ret], \n",
    "                                 exog=sm.add_constant(model_data[factors]), window=window)\n",
    "        factor_model = rolling_ols.fit(params_only=True).params.rename(columns={'const':'ALPHA'})\n",
    "        result = factor_model.assign(ticker=ticker).set_index('ticker', append=True).swaplevel()\n",
    "        betas.append(result)\n",
    "    betas = pd.concat(betas).rename(columns=lambda x: f'{x}_{window}')\n",
    "    universe_stocks = universe_stocks.join(betas)"
   ]
  },
  {
   "cell_type": "code",
   "execution_count": null,
   "metadata": {},
   "outputs": [],
   "source": [
    "universe_stocks"
   ]
  },
  {
   "cell_type": "markdown",
   "metadata": {},
   "source": [
    "### Compute the outcome variable that we will aim to predict, namely the 1-day forward returns."
   ]
  },
  {
   "cell_type": "code",
   "execution_count": null,
   "metadata": {},
   "outputs": [],
   "source": [
    "universe_stocks['returns_1_fwd'] = universe_stocks.groupby(level='ticker')['returns_1'].shift(-1)"
   ]
  },
  {
   "cell_type": "code",
   "execution_count": null,
   "metadata": {},
   "outputs": [],
   "source": [
    "universe_stocks"
   ]
  },
  {
   "cell_type": "code",
   "execution_count": null,
   "metadata": {},
   "outputs": [],
   "source": [
    "universe_stocks.info()"
   ]
  },
  {
   "cell_type": "code",
   "execution_count": null,
   "metadata": {},
   "outputs": [],
   "source": []
  },
  {
   "cell_type": "code",
   "execution_count": null,
   "metadata": {},
   "outputs": [],
   "source": []
  },
  {
   "cell_type": "code",
   "execution_count": null,
   "metadata": {},
   "outputs": [],
   "source": []
  }
 ],
 "metadata": {
  "kernelspec": {
   "display_name": "Python 3 (ipykernel)",
   "language": "python",
   "name": "python3"
  },
  "language_info": {
   "codemirror_mode": {
    "name": "ipython",
    "version": 3
   },
   "file_extension": ".py",
   "mimetype": "text/x-python",
   "name": "python",
   "nbconvert_exporter": "python",
   "pygments_lexer": "ipython3",
   "version": "3.8.13"
  },
  "toc": {
   "base_numbering": 1,
   "nav_menu": {},
   "number_sections": true,
   "sideBar": true,
   "skip_h1_title": false,
   "title_cell": "Table of Contents",
   "title_sidebar": "Contents",
   "toc_cell": false,
   "toc_position": {},
   "toc_section_display": true,
   "toc_window_display": false
  }
 },
 "nbformat": 4,
 "nbformat_minor": 4
}
